{
  "nbformat": 4,
  "nbformat_minor": 0,
  "metadata": {
    "colab": {
      "provenance": [],
      "authorship_tag": "ABX9TyMRm4UjLjSxvBRxeBVQCTDY",
      "include_colab_link": true
    },
    "kernelspec": {
      "name": "python3",
      "display_name": "Python 3"
    },
    "language_info": {
      "name": "python"
    }
  },
  "cells": [
    {
      "cell_type": "markdown",
      "metadata": {
        "id": "view-in-github",
        "colab_type": "text"
      },
      "source": [
        "<a href=\"https://colab.research.google.com/github/sahilpatil03/datascience/blob/main/sahilpatil.ipynb\" target=\"_parent\"><img src=\"https://colab.research.google.com/assets/colab-badge.svg\" alt=\"Open In Colab\"/></a>"
      ]
    },
    {
      "cell_type": "code",
      "source": [
        "import pandas as pd"
      ],
      "metadata": {
        "id": "6bdcX6FtXb9m"
      },
      "execution_count": 1,
      "outputs": []
    },
    {
      "cell_type": "code",
      "source": [
        "admission = pd.read_csv('https://github.com/ybifoundation/Dataset/raw/main/Admission%20Chance.csv')"
      ],
      "metadata": {
        "id": "zsUQGJW_Xl0C"
      },
      "execution_count": 2,
      "outputs": []
    },
    {
      "cell_type": "code",
      "source": [
        "admission.head()"
      ],
      "metadata": {
        "id": "vniPgrAVXqyK"
      },
      "execution_count": null,
      "outputs": []
    },
    {
      "cell_type": "code",
      "source": [
        "admission.info()"
      ],
      "metadata": {
        "id": "eyha5LPQX0U-"
      },
      "execution_count": null,
      "outputs": []
    },
    {
      "cell_type": "code",
      "source": [
        "admission.describe()"
      ],
      "metadata": {
        "id": "YEuyrRR_X_WU"
      },
      "execution_count": null,
      "outputs": []
    },
    {
      "cell_type": "code",
      "source": [
        "admission.columns"
      ],
      "metadata": {
        "id": "nn2CcJp2YE64"
      },
      "execution_count": null,
      "outputs": []
    },
    {
      "cell_type": "code",
      "source": [
        "y = admission['Chance of Admit ']"
      ],
      "metadata": {
        "id": "NEsegmsqYI5W"
      },
      "execution_count": 7,
      "outputs": []
    },
    {
      "cell_type": "code",
      "source": [
        "X = admission.drop(['Serial No','Chance of Admit '],axis=1)"
      ],
      "metadata": {
        "id": "9i4bgvNTYN0Y"
      },
      "execution_count": 8,
      "outputs": []
    },
    {
      "cell_type": "code",
      "source": [
        "from sklearn.model_selection import train_test_split\n",
        "X_train, X_test, y_train, y_test = train_test_split(X,y, train_size=0.7, random_state=2529)"
      ],
      "metadata": {
        "id": "HhQ5uL7NYS_v"
      },
      "execution_count": 9,
      "outputs": []
    },
    {
      "cell_type": "code",
      "source": [
        "X_train.shape, X_test.shape, y_train.shape, y_test.shape"
      ],
      "metadata": {
        "id": "bj2TxOV3YVjA"
      },
      "execution_count": null,
      "outputs": []
    },
    {
      "cell_type": "code",
      "source": [
        "from sklearn.linear_model import LinearRegression\n",
        "model = LinearRegression()"
      ],
      "metadata": {
        "id": "5yC9LMoWYdRC"
      },
      "execution_count": 11,
      "outputs": []
    },
    {
      "cell_type": "code",
      "source": [
        "model.fit(X_train,y_train)"
      ],
      "metadata": {
        "id": "V3Jg7FWjYgKR"
      },
      "execution_count": null,
      "outputs": []
    },
    {
      "cell_type": "code",
      "source": [
        "model.intercept_"
      ],
      "metadata": {
        "id": "j-y_gNrpYp0C"
      },
      "execution_count": null,
      "outputs": []
    },
    {
      "cell_type": "code",
      "source": [
        "model.coef_"
      ],
      "metadata": {
        "id": "umXAPwozYtOk"
      },
      "execution_count": null,
      "outputs": []
    },
    {
      "cell_type": "code",
      "source": [
        "y_pred = model.predict(X_test)"
      ],
      "metadata": {
        "id": "fEf7oTJRYyjw"
      },
      "execution_count": 15,
      "outputs": []
    },
    {
      "cell_type": "code",
      "source": [
        "y_pred"
      ],
      "metadata": {
        "colab": {
          "base_uri": "https://localhost:8080/"
        },
        "id": "fFW3UMsbY02-",
        "outputId": "0243af6b-6405-4ca6-839e-13e5abdd4902"
      },
      "execution_count": 16,
      "outputs": [
        {
          "output_type": "execute_result",
          "data": {
            "text/plain": [
              "array([0.71426327, 0.72534136, 0.69677103, 0.66566584, 0.57483872,\n",
              "       0.93087527, 0.93701113, 0.72361387, 0.81130158, 0.62223963,\n",
              "       0.59629648, 0.80084072, 0.52537944, 0.79174558, 0.84064992,\n",
              "       0.66429594, 0.65136589, 0.66990687, 0.75794085, 0.86072023,\n",
              "       0.66088101, 0.85570763, 0.84777425, 0.95033179, 0.68750762,\n",
              "       0.65907671, 0.65279623, 0.5709259 , 0.55895645, 0.57990205,\n",
              "       0.54497918, 0.7570717 , 0.69682571, 0.77286067, 0.64320811,\n",
              "       0.5183554 , 0.43816818, 0.84654064, 0.90398354, 0.80517781,\n",
              "       0.72218971, 0.72882587, 0.68145136, 0.88592237, 0.77208852,\n",
              "       0.78778085, 0.95526121, 0.88586486, 0.59980416, 0.50690214,\n",
              "       0.59947098, 0.63380406, 0.82841217, 0.44911724, 0.71068577,\n",
              "       0.77335748, 0.68851557, 0.64486026, 0.85537724, 0.65517768,\n",
              "       0.65046031, 0.90818978, 0.63422429, 0.68658606, 0.72150268,\n",
              "       0.69030545, 0.59381287, 0.93813035, 0.58997351, 0.91542587,\n",
              "       0.59283415, 0.93351713, 0.59478751, 0.71380389, 0.54346237,\n",
              "       0.84710913, 0.6084418 , 0.7257337 , 0.67545704, 0.81387503,\n",
              "       0.70259527, 0.88600461, 0.67084016, 0.53064995, 0.77790726,\n",
              "       0.65780713, 0.78970635, 0.54709634, 0.77924705, 0.66750436,\n",
              "       0.69363338, 0.69891086, 0.92185813, 0.70469056, 0.62554306,\n",
              "       0.62208829, 0.73828086, 0.67369114, 0.76391913, 0.61985049,\n",
              "       0.92865957, 0.70430038, 0.9828821 , 0.82502993, 0.78261009,\n",
              "       0.83438446, 0.66840368, 0.70165011, 0.64534281, 0.5715406 ,\n",
              "       0.80739359, 0.69273815, 0.80585447, 0.6102703 , 0.54641206,\n",
              "       0.76301749, 0.71080317, 0.6261331 , 0.83951248, 0.68578269])"
            ]
          },
          "metadata": {},
          "execution_count": 16
        }
      ]
    },
    {
      "cell_type": "code",
      "source": [
        "from sklearn.metrics import mean_absolute_error, mean_absolute_percentage_error, mean_squared_error"
      ],
      "metadata": {
        "id": "rauFw-nwY6cZ"
      },
      "execution_count": 17,
      "outputs": []
    },
    {
      "cell_type": "code",
      "source": [
        "mean_absolute_error(y_test,y_pred)"
      ],
      "metadata": {
        "colab": {
          "base_uri": "https://localhost:8080/"
        },
        "id": "u7FlWGvcY_tc",
        "outputId": "62198888-ac80-45cd-9391-9cc5e5a7b50b"
      },
      "execution_count": 18,
      "outputs": [
        {
          "output_type": "execute_result",
          "data": {
            "text/plain": [
              "0.04400128934232651"
            ]
          },
          "metadata": {},
          "execution_count": 18
        }
      ]
    },
    {
      "cell_type": "code",
      "source": [
        "mean_absolute_percentage_error(y_test,y_pred)"
      ],
      "metadata": {
        "colab": {
          "base_uri": "https://localhost:8080/"
        },
        "id": "fCJcUuhOZFGR",
        "outputId": "671e3a7d-59d1-48fa-da74-cce1ca1d2f0d"
      },
      "execution_count": 19,
      "outputs": [
        {
          "output_type": "execute_result",
          "data": {
            "text/plain": [
              "0.07575278864605438"
            ]
          },
          "metadata": {},
          "execution_count": 19
        }
      ]
    },
    {
      "cell_type": "code",
      "source": [
        "mean_squared_error(y_test,y_pred)"
      ],
      "metadata": {
        "colab": {
          "base_uri": "https://localhost:8080/"
        },
        "id": "uA21CbxPZHm1",
        "outputId": "4afbac49-237f-4824-f743-cd9f15f8af6e"
      },
      "execution_count": 20,
      "outputs": [
        {
          "output_type": "execute_result",
          "data": {
            "text/plain": [
              "0.004038263715495693"
            ]
          },
          "metadata": {},
          "execution_count": 20
        }
      ]
    }
  ]
}